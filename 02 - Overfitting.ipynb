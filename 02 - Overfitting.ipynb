{
 "cells": [
  {
   "cell_type": "markdown",
   "metadata": {},
   "source": [
    "## Overfitting\n",
    "### Explore bias-variance tradeoff visually\n",
    "### See what overfitting looks like"
   ]
  },
  {
   "cell_type": "code",
   "execution_count": 8,
   "metadata": {},
   "outputs": [],
   "source": [
    "from ml_helper import helper\n",
    "import numpy as np\n",
    "import numpy.random as npr\n",
    "import numpy.linalg as nlg\n",
    "import matplotlib.pyplot as plt\n",
    "from ipywidgets import interact\n",
    "import ipywidgets as widgets\n",
    "from warnings import filterwarnings\n",
    "filterwarnings('ignore', message='.*')"
   ]
  },
  {
   "cell_type": "code",
   "execution_count": 9,
   "metadata": {},
   "outputs": [],
   "source": [
    "%%capture\n",
    "def generate_fit(n_data, degree):\n",
    "    \n",
    "    lbd = 0.00\n",
    "    LB = 1\n",
    "    UB = 4\n",
    "    \n",
    "    if degree >= n_data:\n",
    "        print(\"Reducing degree to equal one less than the number of points!\")\n",
    "        degree = n_data - 1\n",
    "    \n",
    "    \n",
    "    YNOISE = 0.3\n",
    "    XNOISE = 0.0\n",
    "    \n",
    "    NVAL = 50\n",
    "    \n",
    "    def func(x):\n",
    "        return np.log(x) + 0.5 * np.sin(3 * x) + x * 0.5\n",
    "    \n",
    "    def x_to_X(x):\n",
    "        out = np.zeros((len(x), degree + 1))\n",
    "        for i in range(degree + 1):\n",
    "            out[:, i] = x ** i\n",
    "        return out\n",
    "    \n",
    "    npr.seed(13371387)\n",
    "    \n",
    "    x_raw = np.linspace(LB, UB, num=NVAL) + npr.normal(scale=XNOISE, size=NVAL)\n",
    "    y_raw = func(x_raw) + npr.normal(scale=YNOISE, size=NVAL)\n",
    "    \n",
    "    ixes = npr.permutation(NVAL)\n",
    "    \n",
    "    x = x_raw[ixes[:n_data]]\n",
    "    y = y_raw[ixes[:n_data]]\n",
    "    \n",
    "    xv = np.linspace(LB, UB, num=NVAL) + npr.normal(scale=XNOISE, size=NVAL)\n",
    "    yv = func(xv) + npr.normal(scale=YNOISE, size=NVAL)\n",
    "    \n",
    "    X = x_to_X(x)\n",
    "    \n",
    "    coef = nlg.inv(X.T @ X + lbd * n_data * np.eye(degree + 1)) @ X.T @ y\n",
    "    \n",
    "    x_fit = np.linspace(np.min(xv), np.max(xv), num=NVAL)\n",
    "    X_fit = x_to_X(x_fit)\n",
    "    y_fit = X_fit @ coef\n",
    "    \n",
    "    plt.cla()\n",
    "    \n",
    "    # training plot\n",
    "    plt.subplot(1, 2, 1)\n",
    "    plt.plot(x_fit, y_fit)\n",
    "    plt.scatter(x, y)\n",
    "    plt.ylim((0, 4))\n",
    "    \n",
    "    ytfit = X @ coef\n",
    "    loss = np.mean((y - ytfit)**2)\n",
    "    st2 = np.sum((y - np.mean(y))**2)\n",
    "    rt2 = np.sum((y - ytfit)**2)\n",
    "    plt.title(f\"Train set: $R^2$ {1- rt2/st2:0.2f}\")\n",
    "    \n",
    "    # validation plot\n",
    "    plt.subplot(1, 2, 2)\n",
    "    plt.plot(x_fit, y_fit)\n",
    "    plt.scatter(xv, yv)\n",
    "    plt.ylim((0, 4))\n",
    "\n",
    "    Xv = x_to_X(xv)\n",
    "    yvfit = Xv @ coef\n",
    "    loss = np.mean((yv - yvfit)**2)\n",
    "    sv2 = np.sum((yv - np.mean(yv))**2)\n",
    "    rv2 = np.sum((yv - yvfit)**2)\n",
    "    plt.title(f\"Test set: $R^2$ {1 - rv2/sv2:0.2f}\") \n",
    "    \n",
    "    # epilogue\n",
    "    plt.gcf().set_size_inches((14, 6))\n",
    "    plt.show()\n",
    "    \n",
    "    return (1 - rt2/st2, 1 - rv2/sv2)"
   ]
  },
  {
   "cell_type": "code",
   "execution_count": 10,
   "metadata": {},
   "outputs": [
    {
     "data": {
      "application/vnd.jupyter.widget-view+json": {
       "model_id": "f849b00aac754bc48ba2800a7e004b57",
       "version_major": 2,
       "version_minor": 0
      },
      "text/plain": [
       "interactive(children=(IntSlider(value=10, description='n_data', max=30, min=2), IntSlider(value=3, description…"
      ]
     },
     "metadata": {},
     "output_type": "display_data"
    }
   ],
   "source": [
    "interact(generate_fit,\n",
    "         n_data=widgets.IntSlider(min=2,max=30,step=1,value=10),\n",
    "         degree=widgets.IntSlider(min=1,max=5,step=1,value=3));"
   ]
  },
  {
   "cell_type": "markdown",
   "metadata": {},
   "source": [
    "## The Bias-Variance tradeoff\n",
    "Our observations in the \"Decision Surfaces\" notebook and the above demo bring us to a very important concept:\n",
    "the **bias-variance tradeoff**.\n",
    "\n",
    "Because our input data is imperfect, our modell will err, and there are two fundamental types of error we play off against each other. The first is **bias**, or the inability of our model to capture the true shape of our data. The second is **variance**, or the error from the noise in our model parameters we get as a result of noise in our input data.\n",
    "\n",
    "Generally, there is a sweet spot where our model is complex enough to model our input, but not so complex that it has enough parameters to \"chase noise\" and **fail to generalize**. We will illustrate this below:"
   ]
  },
  {
   "cell_type": "code",
   "execution_count": 11,
   "metadata": {},
   "outputs": [
    {
     "data": {
      "image/png": "[encoded data removed]",
      "text/plain": [
       "<Figure size 432x288 with 2 Axes>"
      ]
     },
     "metadata": {
      "needs_background": "light"
     },
     "output_type": "display_data"
    }
   ],
   "source": [
    "# First, let's generate some nice planar data and split it into training and validation sets\n",
    "\n",
    "\n",
    "def get_and_plot_data(seed=9999):\n",
    "    npr.seed(9999)\n",
    "    X, y, true_model = helper.gen_planar_samples()\n",
    "       \n",
    "    f = plt.figure()\n",
    "    helper.plot_red_blue(X, y, ax=plt.subplot(1, 2, 1))\n",
    "    helper.plot_decision_surface(true_model, ax=plt.subplot(1, 2, 2))\n",
    "    \n",
    "    return X, y\n",
    "\n",
    "# We use a validation set to model data we have not seen before and want to learn\n",
    "from sklearn.model_selection import train_test_split\n",
    "X_tr, X_v, y_tr, y_v = train_test_split(*get_and_plot_data())"
   ]
  },
  {
   "cell_type": "markdown",
   "metadata": {},
   "source": [
    "The bias-variance effect is canonically illustrated with a training curve, showing both the training and validation loss as a function of model complexity. While the training loss goes down monotonically in all but pathological cases, the validation loss ticks up when the model becomes too complex for the amount of data."
   ]
  },
  {
   "cell_type": "code",
   "execution_count": 12,
   "metadata": {},
   "outputs": [],
   "source": [
    "# Knn is a good classifier to illustrate this effect\n",
    "from sklearn.neighbors import KNeighborsClassifier as KNN\n",
    "from sklearn.svm import SVC\n",
    "from sklearn.tree import DecisionTreeClassifier as DTC\n",
    "from sklearn.neural_network import MLPClassifier as MLP"
   ]
  },
  {
   "cell_type": "markdown",
   "metadata": {},
   "source": [
    "**Exercise**: what is \"model complexity\" for the KNN classifier?"
   ]
  },
  {
   "cell_type": "code",
   "execution_count": 25,
   "metadata": {},
   "outputs": [
    {
     "data": {
      "application/vnd.jupyter.widget-view+json": {
       "model_id": "bf451ac5d7a84d1280f3897bd6bf20b6",
       "version_major": 2,
       "version_minor": 0
      },
      "text/plain": [
       "interactive(children=(RadioButtons(description='model', options=('svc', 'knn', 'tree', 'mlp'), value='svc'), O…"
      ]
     },
     "metadata": {},
     "output_type": "display_data"
    }
   ],
   "source": [
    "def plot_training_curves(model='svc'):\n",
    "    scores_tr = []\n",
    "    scores_v = []\n",
    "    \n",
    "    model = model.lower()\n",
    "    \n",
    "    if model == 'svc':\n",
    "        complexityspace = np.logspace(-4, 2, num=25)\n",
    "    elif model == 'knn':\n",
    "        complexityspace = range(101, 0, -4)\n",
    "    elif model == 'tree':\n",
    "        complexityspace = range(1, 26, 1)\n",
    "    elif model == 'mlp':\n",
    "        complexityspace = range(1, 10, 1)\n",
    "    else:\n",
    "        raise ValueError('Unknown model!')\n",
    "\n",
    "    # average over a number of randomizations to get smooth curves\n",
    "    for smoothing_iteration in range(5):\n",
    "        \n",
    "        scores_tr.append([])\n",
    "        scores_v.append([])\n",
    "        \n",
    "        X_tr, X_v, y_tr, y_v = train_test_split(*helper.gen_planar_samples(seed=smoothing_iteration*999)[:2])\n",
    "        \n",
    "        for parameter in complexityspace:\n",
    "            \n",
    "            if model == 'svc':\n",
    "                m = SVC(kernel='rbf', gamma=parameter)\n",
    "            elif model == 'knn':\n",
    "                m = KNN(n_neighbors=parameter)\n",
    "            elif model == 'tree':\n",
    "                m = DTC(max_depth=parameter)\n",
    "            elif model == 'mlp':\n",
    "                m = MLP(hidden_layer_sizes=(20 * (1 + parameter // 3),) * (1 + parameter // 2))\n",
    "            \n",
    "            m.fit(X_tr, y_tr)\n",
    "            \n",
    "            scores_tr[-1].append(m.score(X_tr, y_tr))\n",
    "            scores_v[-1].append(m.score(X_v, y_v))\n",
    "    \n",
    "    # smooth over iterations\n",
    "    scores_tr = np.mean(scores_tr, axis=0)\n",
    "    scores_v = np.mean(scores_v, axis=0)\n",
    "    \n",
    "    # plot against \"abstract complexity\", abstract away actual parameter values\n",
    "    plt.plot(scores_tr, label='Training scores')\n",
    "    plt.plot(scores_v, label='Validation scores')\n",
    "    plt.xlabel('Complexity')\n",
    "    plt.ylabel('Score')\n",
    "    plt.legend()\n",
    "    plt.ylim((0.5, 1))\n",
    "    plt.gcf().set_size_inches(14, 8)\n",
    "    plt.show()\n",
    "    \n",
    "interact(plot_training_curves,\n",
    "         model=widgets.RadioButtons(options=['svc', 'knn', 'tree', 'mlp'])\n",
    "        );"
   ]
  }
 ],
 "metadata": {
  "kernelspec": {
   "display_name": "Python 3",
   "language": "python",
   "name": "python3"
  },
  "language_info": {
   "codemirror_mode": {
    "name": "ipython",
    "version": 3
   },
   "file_extension": ".py",
   "mimetype": "text/x-python",
   "name": "python",
   "nbconvert_exporter": "python",
   "pygments_lexer": "ipython3",
   "version": "3.7.1"
  }
 },
 "nbformat": 4,
 "nbformat_minor": 2
}
