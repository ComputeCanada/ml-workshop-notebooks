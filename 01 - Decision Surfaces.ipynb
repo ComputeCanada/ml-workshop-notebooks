{
 "cells": [
  {
   "cell_type": "markdown",
   "metadata": {},
   "source": [
    "## Decision Surfaces\n",
    "\n",
    "- **Goal**: visualize what classifiers actually produce\n",
    "- see more at http://scikit-learn.org/stable/auto_examples/classification/plot_classifier_comparison.html"
   ]
  },
  {
   "cell_type": "code",
   "execution_count": null,
   "metadata": {},
   "outputs": [],
   "source": [
    "%load_ext autoreload\n",
    "%autoreload 2\n",
    "%load helper"
   ]
  },
  {
   "cell_type": "code",
   "execution_count": 2,
   "metadata": {},
   "outputs": [],
   "source": [
    "# First generate some data\n",
    "import helper\n",
    "import matplotlib.pyplot as plt\n",
    "from ipywidgets import interact, interactive, fixed, interact_manual\n",
    "import ipywidgets as widgets\n",
    "\n",
    "x, y, TRUE_SURFACE = helper.gen_planar_samples(seed=1341)\n",
    "plt.figure()\n",
    "ax_l = plt.subplot(1, 2, 1)\n",
    "helper.plot_red_blue(x, y, ax=ax_l)\n",
    "ax_r = plt.subplot(1, 2, 2)\n",
    "helper.plot_decision_surface(TRUE_SURFACE, ax=ax_r)"
   ]
  },
  {
   "cell_type": "code",
   "execution_count": 3,
   "metadata": {},
   "outputs": [],
   "source": [
    "# let's load some classifiers\n",
    "from sklearn.svm import SVC, LinearSVC\n",
    "from sklearn.tree import DecisionTreeClassifier\n",
    "from sklearn.neighbors import KNeighborsClassifier"
   ]
  },
  {
   "cell_type": "code",
   "execution_count": 4,
   "metadata": {},
   "outputs": [
    {
     "data": {
      "application/vnd.jupyter.widget-view+json": {
       "model_id": "b49f2ccda96545818f750fbdf56215d5",
       "version_major": 2,
       "version_minor": 0
      },
      "text/plain": [
       "interactive(children=(RadioButtons(description='lp', options=('squared_hinge+l2', 'hinge+l2'), value='squared_…"
      ]
     },
     "metadata": {},
     "output_type": "display_data"
    }
   ],
   "source": [
    "# some interactive visualizations\n",
    "# first, linear SVC: divide our data with a straight line, maximizing the amount they are separated by.\n",
    "# when they are not separable, minimize the loss, i.e. sum of (square) distances into \"enemy territory\"\n",
    "def plot_svc(lp):\n",
    "    loss, penalty = lp.split('+')\n",
    "    model = LinearSVC(loss=loss, penalty=penalty).fit(x, y)\n",
    "    fig = helper.plot_decision_surface(model.decision_function, with_data=(x, y), with_true_surface=TRUE_SURFACE)\n",
    "    \n",
    "_ = interact(plot_svc,\n",
    "         lp=widgets.RadioButtons(options=['squared_hinge+l2', 'hinge+l2']),\n",
    "         # loss=widgets.RadioButtons(options=['hinge', 'squared_hinge']),\n",
    "        )"
   ]
  },
  {
   "cell_type": "code",
   "execution_count": 5,
   "metadata": {},
   "outputs": [],
   "source": [
    "# in a specific sense, K nearest neighbours is theoretically \"perfect\"\n",
    "# but it's also the most data hungry, and is completely useless in high dimensions\n",
    "\n",
    "def plot_kn(kn):\n",
    "    fig = plt.figure()\n",
    "    model = KNeighborsClassifier(n_neighbors=kn).fit(x, y)\n",
    "    fig = helper.plot_decision_surface(model.predict_proba, with_data=(x, y), with_true_surface=TRUE_SURFACE)\n",
    " "
   ]
  },
  {
   "cell_type": "code",
   "execution_count": 6,
   "metadata": {},
   "outputs": [
    {
     "data": {
      "application/vnd.jupyter.widget-view+json": {
       "model_id": "cdb9f1d9b68f48c7b03a0d65398b3401",
       "version_major": 2,
       "version_minor": 0
      },
      "text/plain": [
       "interactive(children=(IntSlider(value=5, description='kn', max=50, min=1), Output()), _dom_classes=('widget-in…"
      ]
     },
     "metadata": {},
     "output_type": "display_data"
    }
   ],
   "source": [
    "interact(plot_kn, kn=widgets.IntSlider(min=1,max=50,step=1,value=5));"
   ]
  },
  {
   "cell_type": "code",
   "execution_count": 7,
   "metadata": {},
   "outputs": [],
   "source": [
    "# \"rbf\" stands for radial basis function; the RBF SVC implicitly projects the data into infinite dimensions\n",
    "# without going into the mathematical specifics, think of it as generating a ball of matching colour around\n",
    "# each point. The prediction is the the sum of these colours.\n",
    "# It has the nice property that if we're very far away from our input data, the prediction approaches 50/50.\n",
    "\n",
    "def plot_svc_rbf(gamma):\n",
    "    model = SVC(kernel='rbf', gamma=gamma, probability=True).fit(x, y)\n",
    "    fig = helper.plot_decision_surface(model.predict_proba, with_data=(x, y), with_true_surface=TRUE_SURFACE)"
   ]
  },
  {
   "cell_type": "code",
   "execution_count": 8,
   "metadata": {},
   "outputs": [
    {
     "data": {
      "application/vnd.jupyter.widget-view+json": {
       "model_id": "b86a5f098fd444a8a7fb75588385a8a4",
       "version_major": 2,
       "version_minor": 0
      },
      "text/plain": [
       "interactive(children=(FloatLogSlider(value=3.0, description='gamma', max=1.0, min=-2.0, step=0.25), Output()),…"
      ]
     },
     "metadata": {},
     "output_type": "display_data"
    }
   ],
   "source": [
    "interact(plot_svc_rbf, gamma=widgets.FloatLogSlider(min=-2,max=1,step=0.25,value=3));"
   ]
  },
  {
   "cell_type": "code",
   "execution_count": 9,
   "metadata": {},
   "outputs": [],
   "source": [
    "# Divides the space into a bunch of rectangles following a tree of (if x > z) style rules\n",
    "# Rarely used by itself; rather, many of these \"averaged out\" in a clever way produce a very good classifier\n",
    "# We'll get to it later\n",
    "\n",
    "def plot_decision_tree(max_depth, min_samples_split, criterion):\n",
    "    model = DecisionTreeClassifier(criterion=criterion, max_depth=max_depth, min_samples_split=min_samples_split).fit(x, y)\n",
    "    fig = helper.plot_decision_surface(model.predict_proba, with_data=(x, y), with_true_surface=TRUE_SURFACE)"
   ]
  },
  {
   "cell_type": "code",
   "execution_count": 10,
   "metadata": {},
   "outputs": [
    {
     "data": {
      "application/vnd.jupyter.widget-view+json": {
       "model_id": "5903832ee3c0418eadc976ae0abd9516",
       "version_major": 2,
       "version_minor": 0
      },
      "text/plain": [
       "interactive(children=(IntSlider(value=3, description='max_depth', max=20, min=1), IntSlider(value=2, descripti…"
      ]
     },
     "metadata": {},
     "output_type": "display_data"
    }
   ],
   "source": [
    "interact(plot_decision_tree, max_depth=widgets.IntSlider(min=1,max=20,step=1,value=3),\n",
    "        min_samples_split=widgets.IntSlider(min=2, max=20, step=1, values=3),\n",
    "        criterion=widgets.RadioButtons(options=['gini', 'entropy']));"
   ]
  }
 ],
 "metadata": {
  "kernelspec": {
   "display_name": "Python 3",
   "language": "python",
   "name": "python3"
  },
  "language_info": {
   "codemirror_mode": {
    "name": "ipython",
    "version": 3
   },
   "file_extension": ".py",
   "mimetype": "text/x-python",
   "name": "python",
   "nbconvert_exporter": "python",
   "pygments_lexer": "ipython3",
   "version": "3.7.1"
  }
 },
 "nbformat": 4,
 "nbformat_minor": 2
}
