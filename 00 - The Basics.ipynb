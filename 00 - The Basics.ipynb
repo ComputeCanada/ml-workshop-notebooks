{
 "cells": [
  {
   "cell_type": "markdown",
   "metadata": {},
   "source": [
    "## The basics\n",
    "- Creating a classifier with scikit learn\n",
    "- Splitting your dataset into training and validation\n",
    "- Training and validating a simple model"
   ]
  },
  {
   "cell_type": "markdown",
   "metadata": {},
   "source": [
    "Below is the core of a supervised learning workflow, illustrating the central steps"
   ]
  },
  {
   "cell_type": "code",
   "execution_count": 1,
   "metadata": {},
   "outputs": [],
   "source": [
    "# some helper code to keep things succinct\n",
    "%load_ext autoreload\n",
    "%autoreload 2\n",
    "import helper"
   ]
  },
  {
   "cell_type": "code",
   "execution_count": 2,
   "metadata": {},
   "outputs": [],
   "source": [
    "# generate some data\n",
    "x, y, labeller = helper.gen_planar_samples(seed=55)\n",
    "# learn this function!\n",
    "from sklearn.model_selection import train_test_split\n",
    "x_tr, x_v, y_tr, y_v = train_test_split(x, y)"
   ]
  },
  {
   "cell_type": "markdown",
   "metadata": {},
   "source": [
    "We load the data and split it into training and validation subsets. The idea is to reserve some data as \"unseen\", so that we can check how well our model **generalizes** to unseen information from the same input distribution."
   ]
  },
  {
   "cell_type": "code",
   "execution_count": 3,
   "metadata": {},
   "outputs": [],
   "source": [
    "# scikit learn contains a lot of out of the box models\n",
    "from sklearn.svm import LinearSVC\n",
    "\n",
    "# most of the use the .fit interface\n",
    "model = LinearSVC().fit(x_tr, y_tr)"
   ]
  },
  {
   "cell_type": "markdown",
   "metadata": {},
   "source": [
    "The above is a pretty trivial example, but I hope you are impressed you can train a basic classifier in a single line."
   ]
  },
  {
   "cell_type": "markdown",
   "metadata": {},
   "source": [
    "**Exercise:** describe in detail what happens on that line in terms of python operations."
   ]
  },
  {
   "cell_type": "code",
   "execution_count": 4,
   "metadata": {},
   "outputs": [
    {
     "name": "stdout",
     "output_type": "stream",
     "text": [
      "Training score: 0.5572916666666666\n",
      "Validation score: 0.65625\n"
     ]
    }
   ],
   "source": [
    "# We want to see how well our model performs.\n",
    "# We evaluate the loss on the training set and the test set.\n",
    "score_train = model.score(x_tr, y_tr)\n",
    "score_validation = model.score(x_v, y_v)\n",
    "\n",
    "print(\"Training score:\", score_train)\n",
    "print(\"Validation score:\", score_validation)"
   ]
  },
  {
   "cell_type": "markdown",
   "metadata": {},
   "source": [
    "**Exercise**: does the result above make sense? Explain why."
   ]
  },
  {
   "cell_type": "markdown",
   "metadata": {},
   "source": [
    "### Quick Coding Exercise:\n",
    "- load one of the scikit learn builtin datasets\n",
    "- train a classifier of your choice on it (it doesn't have to be good)\n",
    "- don't forget validation!"
   ]
  },
  {
   "cell_type": "code",
   "execution_count": 5,
   "metadata": {},
   "outputs": [],
   "source": [
    "# Do your exercise here"
   ]
  }
 ],
 "metadata": {
  "kernelspec": {
   "display_name": "Python 3",
   "language": "python",
   "name": "python3"
  },
  "language_info": {
   "codemirror_mode": {
    "name": "ipython",
    "version": 3
   },
   "file_extension": ".py",
   "mimetype": "text/x-python",
   "name": "python",
   "nbconvert_exporter": "python",
   "pygments_lexer": "ipython3",
   "version": "3.7.1"
  }
 },
 "nbformat": 4,
 "nbformat_minor": 2
}
