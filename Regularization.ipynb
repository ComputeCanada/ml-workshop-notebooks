{
 "cells": [
  {
   "cell_type": "markdown",
   "metadata": {},
   "source": [
    "## Regularization\n",
    "### Controlling overfitting by restricting paramters\n",
    "### Making output more interpretable"
   ]
  },
  {
   "cell_type": "code",
   "execution_count": 1,
   "metadata": {},
   "outputs": [],
   "source": [
    "%load_ext autoreload\n",
    "%autoreload 2\n",
    "import helper\n",
    "import numpy as np\n",
    "import numpy.random as npr\n",
    "import matplotlib.pyplot as plt"
   ]
  },
  {
   "cell_type": "code",
   "execution_count": 2,
   "metadata": {},
   "outputs": [
    {
     "data": {
      "image/png": "[encoded data removed]",
      "text/plain": [
       "<Figure size 432x288 with 1 Axes>"
      ]
     },
     "metadata": {
      "needs_background": "light"
     },
     "output_type": "display_data"
    }
   ],
   "source": [
    "# One main use of regularization is to smooth model-nonconforming model irregularities\n",
    "\n",
    "# the most basic example of the uses of regularization\n",
    "# Least Squares linear regression has too high of a tendency to overfit to far outliers\n",
    "# Ridge regression adds a (w @ w) term to the loss\n",
    "\n",
    "\n",
    "def gen_hetroskedastic_data(num=5):\n",
    "    \"\"\"\n",
    "    Generate a linear trend with additive gaussian noise, and some masked, asymmetric \"shot\" noise\n",
    "    \"\"\"\n",
    "    X = npr.uniform(-5, 5, size=num)\n",
    "    Y = 3 + 0.5 * X\n",
    "    \n",
    "    gnoise = npr.normal(scale=1, size=num)\n",
    "    \n",
    "    shotnoise = 0* npr.uniform(-10, 10, size=num)\n",
    "    shotmask = npr.binomial(1, p=0.1, size=num)\n",
    "    \n",
    "    Y += gnoise\n",
    "    Y += shotmask * shotnoise\n",
    "    \n",
    "    return X, Y\n",
    "    \n",
    "X, Y = gen_hetroskedastic_data()\n",
    "_ = plt.scatter(X, Y)\n",
    "plt.grid()"
   ]
  },
  {
   "cell_type": "code",
   "execution_count": 6,
   "metadata": {},
   "outputs": [
    {
     "data": {
      "application/vnd.jupyter.widget-view+json": {
       "model_id": "0c4bf2eb386542a99bef651bdaabf321",
       "version_major": 2,
       "version_minor": 0
      },
      "text/plain": [
       "interactive(children=(FloatLogSlider(value=0.1, description='alpha', max=3.0, min=-1.0, step=0.2), Output()), …"
      ]
     },
     "metadata": {},
     "output_type": "display_data"
    }
   ],
   "source": [
    "from sklearn.linear_model import Ridge\n",
    "from ipywidgets import interact\n",
    "import ipywidgets as widgets\n",
    "\n",
    "def fit_ridge(alpha=0.):\n",
    "    model = Ridge(alpha=alpha)\n",
    "    model.fit(X[:, np.newaxis], Y)\n",
    "    \n",
    "    X_lin = np.linspace(-5, 5, num=1000)\n",
    "    plt.scatter(X, Y, marker='+')\n",
    "    plt.plot(X_lin, model.predict(X_lin[:, np.newaxis]), color='red')\n",
    "    plt.plot(X_lin, 3 + 0.5 * X_lin, color='green')\n",
    "    plt.grid()\n",
    "    plt.xlabel(\"X\")\n",
    "    plt.ylabel(\"Y\")\n",
    "    plt.gcf().set_size_inches(14, 8)\n",
    "    \n",
    "interact(fit_ridge, alpha=widgets.FloatLogSlider(min=-1, max=3, step=1/5, value=0));"
   ]
  },
  {
   "cell_type": "code",
   "execution_count": 4,
   "metadata": {},
   "outputs": [],
   "source": [
    "# The illustration above is mediocre in one dimension, but we can quantify some results in higher dimensions:\n",
    "\n",
    "from sklearn.model_selection import train_test_split\n",
    "\n",
    "def get_high_d_data(useful_dim=5, dim=20, num=100):\n",
    "        \n",
    "    \n",
    "    if (useful_dim >= dim // 2):\n",
    "        print(\"Lowering useful_dim\")\n",
    "        useful_dim = dim // 2\n",
    "    \n",
    "    if (dim >= num):\n",
    "        print(\"Underdetermined system: raising number of samples!\")\n",
    "        num = dim + 1\n",
    "        \n",
    "    npr.seed(1337)\n",
    "    true_W = npr.uniform(-1, 1, size=(dim,))\n",
    "    true_W[useful_dim:] = 0\n",
    "    true_b = 3\n",
    "    \n",
    "    npr.seed(1340)\n",
    "    X = npr.uniform(-5, 5, size=(num, dim))\n",
    "    npr.seed(1338)\n",
    "    Y = X @ true_W + true_b + npr.normal(scale=1, loc=0, size=(num,))\n",
    "    \n",
    "    npr.seed(1339)\n",
    "    Xt, Xv, Yt, Yv = train_test_split(X, Y)\n",
    "    \n",
    "    return true_W, Xt, Xv, Yt, Yv"
   ]
  },
  {
   "cell_type": "code",
   "execution_count": 5,
   "metadata": {},
   "outputs": [
    {
     "data": {
      "application/vnd.jupyter.widget-view+json": {
       "model_id": "4659665ca3a34127876b5808b4bb0803",
       "version_major": 2,
       "version_minor": 0
      },
      "text/plain": [
       "interactive(children=(RadioButtons(description='model', options=('ridge', 'lasso'), value='ridge'), FloatLogSl…"
      ]
     },
     "metadata": {},
     "output_type": "display_data"
    }
   ],
   "source": [
    "# another use of regularization is to induce sparsity\n",
    "# here, L1 regularization, which penalizes sum(abs(w)), or ||w||_1, is shown:\n",
    "\n",
    "# This is useful for high dimensional data, where a small number of explanatory variables is desired\n",
    "\n",
    "from sklearn.linear_model import Ridge, Lasso\n",
    "def train_high_d_ridge(model='ridge', alpha=0.1, useful_dim=5, dim=20, num=100):\n",
    "    \"\"\"\n",
    "    Generates data in a variable number of dimensions, only some of which are useful.\n",
    "    \"\"\"\n",
    "\n",
    "    true_W, Xt, Xv, Yt, Yv = get_high_d_data(useful_dim, dim, num)\n",
    "    \n",
    "    if model == 'ridge':\n",
    "        model = Ridge(alpha=alpha).fit(Xt, Yt)\n",
    "    else:\n",
    "        model = Lasso(alpha=alpha).fit(Xt, Yt)\n",
    "    \n",
    "    plt.scatter(np.arange(dim), true_W, label=\"True coefficients\")\n",
    "    plt.scatter(np.arange(dim), model.coef_, label=\"Predicted coefficients\")\n",
    "    plt.ylim((-1, 1))\n",
    "    plt.legend()\n",
    "    plt.xlabel(\"Weight index\")\n",
    "    plt.ylabel(\"Weight value\")\n",
    "    plt.gcf().set_size_inches(14, 8)\n",
    "    \n",
    "    print(\"Validation score: \", model.score(Xv, Yv))\n",
    "    \n",
    "interact(\n",
    "    train_high_d_ridge,\n",
    "    alpha=widgets.FloatLogSlider(min=-1, max=3, step=1/3, value=0),\n",
    "    dim=widgets.IntSlider(min=1, max=50, value=25),\n",
    "    num=widgets.IntSlider(min=1, max=50, value=25),\n",
    "    useful_dim=widgets.IntSlider(min=1, max=25, value=10),\n",
    "    model=widgets.RadioButtons(options=['ridge', 'lasso']),\n",
    ");"
   ]
  },
  {
   "cell_type": "code",
   "execution_count": null,
   "metadata": {},
   "outputs": [],
   "source": []
  }
 ],
 "metadata": {
  "kernelspec": {
   "display_name": "Python 3",
   "language": "python",
   "name": "python3"
  },
  "language_info": {
   "codemirror_mode": {
    "name": "ipython",
    "version": 3
   },
   "file_extension": ".py",
   "mimetype": "text/x-python",
   "name": "python",
   "nbconvert_exporter": "python",
   "pygments_lexer": "ipython3",
   "version": "3.7.1"
  }
 },
 "nbformat": 4,
 "nbformat_minor": 2
}
