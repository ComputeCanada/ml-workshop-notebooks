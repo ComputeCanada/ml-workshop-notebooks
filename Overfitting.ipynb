{
 "cells": [
  {
   "cell_type": "markdown",
   "metadata": {},
   "source": [
    "## Bias - Variance\n",
    "### Explore bias-variance tradeoff visually\n",
    "### See what overfitting looks like"
   ]
  },
  {
   "cell_type": "code",
   "execution_count": 1,
   "metadata": {},
   "outputs": [],
   "source": [
    "%matplotlib inline\n",
    "%load_ext autoreload\n",
    "%autoreload 2\n",
    "\n",
    "from warnings import filterwarnings\n",
    "filterwarnings('ignore', message='.*')\n",
    "import helper\n",
    "from ipywidgets import interact, interactive, fixed, interact_manual\n",
    "import ipywidgets as widgets\n",
    "import numpy as np\n",
    "import numpy.random as npr\n",
    "import numpy.linalg as nlg\n",
    "import matplotlib.pyplot as plt\n",
    "from sklearn.tree import DecisionTreeRegressor\n",
    "from sklearn.model_selection import train_test_split, cross_val_score\n",
    "from sklearn.metrics import mean_squared_error\n",
    "from sklearn.gaussian_process import GaussianProcessRegressor\n",
    "from sklearn.gaussian_process.kernels import RBF, WhiteKernel, ConstantKernel "
   ]
  },
  {
   "cell_type": "code",
   "execution_count": 2,
   "metadata": {},
   "outputs": [],
   "source": [
    "%%capture\n",
    "def generate_fit(n_data, degree):\n",
    "    \n",
    "    lbd = 0.00\n",
    "    LB = 1\n",
    "    UB = 4\n",
    "    \n",
    "    if degree >= n_data:\n",
    "        print(\"Reducing degree to equal one less than the number of points!\")\n",
    "        degree = n_data - 1\n",
    "    \n",
    "    \n",
    "    YNOISE = 0.3\n",
    "    XNOISE = 0.0\n",
    "    \n",
    "    NVAL = 50\n",
    "    \n",
    "    def func(x):\n",
    "        return np.log(x) + 0.5 * np.sin(3 * x) + x * 0.5\n",
    "    \n",
    "    def x_to_X(x):\n",
    "        out = np.zeros((len(x), degree + 1))\n",
    "        for i in range(degree + 1):\n",
    "            out[:, i] = x ** i\n",
    "        return out\n",
    "    \n",
    "    npr.seed(13371387)\n",
    "    \n",
    "    x_raw = np.linspace(LB, UB, num=NVAL) + npr.normal(scale=XNOISE, size=NVAL)\n",
    "    y_raw = func(x_raw) + npr.normal(scale=YNOISE, size=NVAL)\n",
    "    \n",
    "    ixes = npr.permutation(NVAL)\n",
    "    \n",
    "    x = x_raw[ixes[:n_data]]\n",
    "    y = y_raw[ixes[:n_data]]\n",
    "    \n",
    "    xv = np.linspace(LB, UB, num=NVAL) + npr.normal(scale=XNOISE, size=NVAL)\n",
    "    yv = func(xv) + npr.normal(scale=YNOISE, size=NVAL)\n",
    "    \n",
    "    X = x_to_X(x)\n",
    "    \n",
    "    coef = nlg.inv(X.T @ X + lbd * n_data * np.eye(degree + 1)) @ X.T @ y\n",
    "    \n",
    "    x_fit = np.linspace(np.min(xv), np.max(xv), num=NVAL)\n",
    "    X_fit = x_to_X(x_fit)\n",
    "    y_fit = X_fit @ coef\n",
    "    \n",
    "    plt.cla()\n",
    "    \n",
    "    # training plot\n",
    "    plt.subplot(1, 2, 1)\n",
    "    plt.plot(x_fit, y_fit)\n",
    "    plt.scatter(x, y)\n",
    "    plt.ylim((0, 4))\n",
    "    \n",
    "    ytfit = X @ coef\n",
    "    loss = np.mean((y - ytfit)**2)\n",
    "    st2 = np.sum((y - np.mean(y))**2)\n",
    "    rt2 = np.sum((y - ytfit)**2)\n",
    "    plt.title(f\"Train set: $R^2$ {1- rt2/st2:0.2f}\")\n",
    "    \n",
    "    # validation plot\n",
    "    plt.subplot(1, 2, 2)\n",
    "    plt.plot(x_fit, y_fit)\n",
    "    plt.scatter(xv, yv)\n",
    "    plt.ylim((0, 4))\n",
    "\n",
    "    Xv = x_to_X(xv)\n",
    "    yvfit = Xv @ coef\n",
    "    loss = np.mean((yv - yvfit)**2)\n",
    "    sv2 = np.sum((yv - np.mean(yv))**2)\n",
    "    rv2 = np.sum((yv - yvfit)**2)\n",
    "    plt.title(f\"Test set: $R^2$ {1 - rv2/sv2:0.2f}\") \n",
    "    \n",
    "    # epilogue\n",
    "    plt.gcf().set_size_inches((14, 6))\n",
    "    plt.show()\n",
    "    \n",
    "    return (1 - rt2/st2, 1 - rv2/sv2)"
   ]
  },
  {
   "cell_type": "code",
   "execution_count": 3,
   "metadata": {},
   "outputs": [
    {
     "data": {
      "application/vnd.jupyter.widget-view+json": {
       "model_id": "0b43a0061df94a83bed653d30e712178",
       "version_major": 2,
       "version_minor": 0
      },
      "text/plain": [
       "interactive(children=(IntSlider(value=10, description='n_data', max=30, min=2), IntSlider(value=3, description…"
      ]
     },
     "metadata": {},
     "output_type": "display_data"
    },
    {
     "data": {
      "text/plain": [
       "<function __main__.generate_fit(n_data, degree)>"
      ]
     },
     "execution_count": 3,
     "metadata": {},
     "output_type": "execute_result"
    }
   ],
   "source": [
    "interact(generate_fit,\n",
    "         n_data=widgets.IntSlider(min=2,max=30,step=1,value=10),\n",
    "         degree=widgets.IntSlider(min=1,max=5,step=1,value=3))"
   ]
  },
  {
   "cell_type": "code",
   "execution_count": 4,
   "metadata": {},
   "outputs": [],
   "source": [
    "%%capture\n",
    "npr.seed(13371544)\n",
    "X, Y, LFUNC = helper.gen_planar_samples();"
   ]
  },
  {
   "cell_type": "code",
   "execution_count": 5,
   "metadata": {},
   "outputs": [
    {
     "data": {
      "image/png": "[encoded data removed]",
      "text/plain": [
       "<Figure size 432x288 with 1 Axes>"
      ]
     },
     "metadata": {
      "needs_background": "light"
     },
     "output_type": "display_data"
    }
   ],
   "source": [
    "helper.plot_decision_surface(LFUNC)"
   ]
  },
  {
   "cell_type": "code",
   "execution_count": 6,
   "metadata": {},
   "outputs": [],
   "source": [
    "%%capture\n",
    "from sklearn.svm import SVC\n",
    "def train_n_samples(n_data=10, degree=1, seed=1337):\n",
    "    \n",
    "    npr.seed(seed)\n",
    "    \n",
    "    x_t = X[:n_data]\n",
    "    y_t = Y[:n_data]\n",
    "    \n",
    "    model = SVC(kernel='poly', degree=degree, probability=True).fit(x_t, y_t)\n",
    "    \n",
    "    x_red = x_t[y_t == 0]\n",
    "    x_blue = x_t[y_t == 1]\n",
    "    \n",
    "    f = plt.figure()\n",
    "    ax = plt.subplot(1, 3, 1)\n",
    "    ax.scatter(x_red[:, 0], x_red[:, 1], color='red')\n",
    "    ax.scatter(x_blue[:, 0], x_blue[:, 1], color='blue')\n",
    "    \n",
    "    ax=plt.subplot(1, 3, 2)\n",
    "    helper.plot_decision_surface(model.predict_proba)\n",
    "    \n",
    "    ax=plt.subplot(1, 3, 3)\n",
    "    helper.plot_decision_surface(LFUNC)\n",
    "    \n",
    "    plt.gcf().set_size_inches((15, 6))\n",
    "    \n",
    "    return x_t, y_t, model"
   ]
  },
  {
   "cell_type": "code",
   "execution_count": 7,
   "metadata": {},
   "outputs": [
    {
     "data": {
      "application/vnd.jupyter.widget-view+json": {
       "model_id": "962d107382084bd58a39fde24bd58cfe",
       "version_major": 2,
       "version_minor": 0
      },
      "text/plain": [
       "interactive(children=(IntSlider(value=10, description='n_data', max=30, min=2), IntSlider(value=3, description…"
      ]
     },
     "metadata": {},
     "output_type": "display_data"
    },
    {
     "data": {
      "text/plain": [
       "<function __main__.train_n_samples(n_data=10, degree=1, seed=1337)>"
      ]
     },
     "execution_count": 7,
     "metadata": {},
     "output_type": "execute_result"
    }
   ],
   "source": [
    "interact(train_n_samples,\n",
    "         n_data=widgets.IntSlider(min=5,max=30,step=1,value=10),\n",
    "         degree=widgets.IntSlider(min=1,max=10,step=1,value=3),\n",
    "         seed=widgets.IntText(value=1337))"
   ]
  }
 ],
 "metadata": {
  "kernelspec": {
   "display_name": "Python 3",
   "language": "python",
   "name": "python3"
  },
  "language_info": {
   "codemirror_mode": {
    "name": "ipython",
    "version": 3
   },
   "file_extension": ".py",
   "mimetype": "text/x-python",
   "name": "python",
   "nbconvert_exporter": "python",
   "pygments_lexer": "ipython3",
   "version": "3.7.0"
  }
 },
 "nbformat": 4,
 "nbformat_minor": 2
}
